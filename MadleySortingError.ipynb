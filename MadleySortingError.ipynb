{
 "cells": [
  {
   "cell_type": "code",
   "execution_count": 1,
   "metadata": {},
   "outputs": [
    {
     "data": {
      "text/html": [
       "        <script type=\"text/javascript\">\n",
       "        window.PlotlyConfig = {MathJaxConfig: 'local'};\n",
       "        if (window.MathJax && window.MathJax.Hub && window.MathJax.Hub.Config) {window.MathJax.Hub.Config({SVG: {font: \"STIX-Web\"}});}\n",
       "        if (typeof require !== 'undefined') {\n",
       "        require.undef(\"plotly\");\n",
       "        requirejs.config({\n",
       "            paths: {\n",
       "                'plotly': ['https://cdn.plot.ly/plotly-2.25.2.min']\n",
       "            }\n",
       "        });\n",
       "        require(['plotly'], function(Plotly) {\n",
       "            window._Plotly = Plotly;\n",
       "        });\n",
       "        }\n",
       "        </script>\n",
       "        "
      ]
     },
     "metadata": {},
     "output_type": "display_data"
    }
   ],
   "source": [
    "import extract_msg \n",
    "import os\n",
    "import re\n",
    "import pandas as pd\n",
    "import seaborn as sns\n",
    "import matplotlib.pyplot as plt\n",
    "import plotly.express as px\n",
    "import json\n",
    "import glob\n",
    "import datetime\n",
    "from IPython.display import clear_output\n",
    "import numpy as np\n",
    "import seaborn as sns \n",
    "import sensirion_nbconflux\n",
    "from sensirion_database_access import DatabaseAccess\n",
    "from sensirion_database_access.pyodbc_access import PyodbcAccess\n",
    "from sensirion_pmcalib_eval_tools.database_analysis_tool import *\n",
    "import nbimporter\n",
    "import sys\n",
    "%matplotlib inline\n",
    "%matplotlib inline"
   ]
  },
  {
   "cell_type": "code",
   "execution_count": 2,
   "metadata": {},
   "outputs": [],
   "source": [
    "pd.options.display.max_columns = None\n",
    "pd.options.display.max_rows = None\n",
    "pd.options.display.precision = 2"
   ]
  },
  {
   "cell_type": "code",
   "execution_count": 77,
   "metadata": {},
   "outputs": [],
   "source": [
    "folder = r\"Z:\\Bugreport\\MadleySorting_Exception\"\n",
    "dictionary_list = []\n",
    "for i, file in enumerate(os.listdir(folder)):\n",
    "    try:\n",
    "        msg = extract_msg.Message(os.path.join(folder, file),overrideEncoding='gbk')\n",
    "        string = msg.body\n",
    "        d = {}\n",
    "        d['AssemblyName'] = re.search(r'Assembly Name: (\\w+)', string).group(1)\n",
    "        d['Version'] = re.search(r'Version Number: (.+?)\\r', string).group(1)\n",
    "        d['Machine'] = re.search(r'Machine Name: (.+?)\\r', string).group(1)\n",
    "        d['DateTime'] = re.search(r'Event Time: (.+?)\\r', string).group(1)\n",
    "        d['WorkingDir'] = re.search(r'Working Directory: (.+?)\\r',string).group(1)\n",
    "        d['file'] = file\n",
    "        exception = re.search(r'Workflow Exception Message:\\r\\n(.+?)\\r', string).group(1)\n",
    "        #exception = re.search(r'Other Additional Information Provided By User:\\r\\n(.+?)\\r',re.MULTILINE).group(1)\n",
    "        # exclude timestamp\n",
    "        exception = re.sub(r'\\[\\d{2}:\\d{2}:\\d{2}\\] ', '', exception)\n",
    "        if \"One or more exceptions occured\" in exception:\n",
    "            exception_sum = \"The sorting equipment is out of air\"\n",
    "        elif \"One or more errors occurred.\" in exception:\n",
    "            exception_sum = \"Software exception\"\n",
    "        elif \"???????\" in exception:\n",
    "            exception_sum = \"Software error\"\n",
    "        elif \"Error [[Sensirion.PmModules.MadleyCalibration.Configuration.SortingConfigurationContainer.TgWriteFirmware]]\"in exception:\n",
    "            exception_sum = \"Error validating section\"\n",
    "        elif \"Error [[Sensirion.PmModules.MadleyCalibration.Configuration.Sections.SetupDescription.Site]]\" in exception:\n",
    "            exception_sum = \"Property did not validate\"\n",
    "        elif \"Error validating binning configuration. File\" in exception:\n",
    "            exception_sum = \"Error validating binning configuration\"\n",
    "        elif \"Error [[L:\\ProductionConfig\\PmSorting\\SEN6xSorting_config_1.0.0.0\\Facility\\PmSorting_CN-100873.toml]]\" in exception:\n",
    "            exception_sum = \"File not found\"\n",
    "        elif \"Error [[Sensirion.PmModules.MadleyCalibration.Configuration.Sections.ZebraLabelPrinter.Enable]]\" in exception:\n",
    "            exception_sum = \"Property was not loaded\"\n",
    "        elif \"Warning: Ignoring duplicate definition of option ZPL in Printer in file \" in exception:\n",
    "            exception_sum = \"Warning\"\n",
    "        elif \"PmCalib to Sorting bin mapping failed.\" in exception:\n",
    "            exception_sum = \"Soft bin is not defined\"\n",
    "        elif \"Error [Tomlyn.TomlException:\" in exception:\n",
    "            exception_sum = \"Tomlyn error\"\n",
    "        elif \"Error validating binning configuration.\" in exception:\n",
    "            exception_sum = \"Error validating binning configuration.\"\n",
    "        elif \"Configuration: Failed to connect board '192.168.100.100'\" in exception:\n",
    "            exception_sum = \"Failed to connect \"\n",
    "        elif \"CtEngine File\" in exception:\n",
    "            exception_sum = \"xml does not exist\"\n",
    "        elif \"Exception of type 'Ice.MarshalException' was thrown.\" in exception:\n",
    "            exception_sum = \"Exception of type\"\n",
    "        elif \"Timeout while waiting for the cylinders to close\" in exception:\n",
    "            exception_sum = \"Closing  door timeout\"\n",
    "        else:\n",
    "            exception_sum = exception\n",
    "        d['exception'] = exception_sum\n",
    "        d['original_exception'] = exception\n",
    "        dictionary_list.append(d)\n",
    "    except:\n",
    "        pass\n",
    "dft = pd.DataFrame.from_dict(dictionary_list)  "
   ]
  },
  {
   "cell_type": "code",
   "execution_count": 78,
   "metadata": {
    "scrolled": true
   },
   "outputs": [
    {
     "data": {
      "text/html": [
       "<div>\n",
       "<style scoped>\n",
       "    .dataframe tbody tr th:only-of-type {\n",
       "        vertical-align: middle;\n",
       "    }\n",
       "\n",
       "    .dataframe tbody tr th {\n",
       "        vertical-align: top;\n",
       "    }\n",
       "\n",
       "    .dataframe thead th {\n",
       "        text-align: right;\n",
       "    }\n",
       "</style>\n",
       "<table border=\"1\" class=\"dataframe\">\n",
       "  <thead>\n",
       "    <tr style=\"text-align: right;\">\n",
       "      <th></th>\n",
       "      <th>AssemblyName</th>\n",
       "      <th>Version</th>\n",
       "      <th>Machine</th>\n",
       "      <th>DateTime</th>\n",
       "      <th>WorkingDir</th>\n",
       "      <th>file</th>\n",
       "      <th>exception</th>\n",
       "      <th>original_exception</th>\n",
       "    </tr>\n",
       "  </thead>\n",
       "  <tbody>\n",
       "    <tr>\n",
       "      <th>0</th>\n",
       "      <td>SEN6xSorting</td>\n",
       "      <td>1.2.0.0</td>\n",
       "      <td>CN-SHA-M-100068</td>\n",
       "      <td>20.02.2025 12:40:32</td>\n",
       "      <td>C:\\SVN\\Particle.AppLauncher_5.0.0.0</td>\n",
       "      <td>_Error_ SEN6xSorting _ WorkflowError  (1).msg</td>\n",
       "      <td>The sorting equipment is out of air</td>\n",
       "      <td>One or more exceptions occured during executio...</td>\n",
       "    </tr>\n",
       "    <tr>\n",
       "      <th>1</th>\n",
       "      <td>SEN6xSorting</td>\n",
       "      <td>1.2.0.0</td>\n",
       "      <td>CN-SHA-M-100068</td>\n",
       "      <td>18.02.2025 15:34:01</td>\n",
       "      <td>C:\\SVN\\Particle.AppLauncher_5.0.0.0</td>\n",
       "      <td>_Error_ SEN6xSorting _ WorkflowError  (10).msg</td>\n",
       "      <td>The sorting equipment is out of air</td>\n",
       "      <td>One or more exceptions occured during executio...</td>\n",
       "    </tr>\n",
       "  </tbody>\n",
       "</table>\n",
       "</div>"
      ],
      "text/plain": [
       "   AssemblyName  Version          Machine             DateTime  \\\n",
       "0  SEN6xSorting  1.2.0.0  CN-SHA-M-100068  20.02.2025 12:40:32   \n",
       "1  SEN6xSorting  1.2.0.0  CN-SHA-M-100068  18.02.2025 15:34:01   \n",
       "\n",
       "                            WorkingDir  \\\n",
       "0  C:\\SVN\\Particle.AppLauncher_5.0.0.0   \n",
       "1  C:\\SVN\\Particle.AppLauncher_5.0.0.0   \n",
       "\n",
       "                                             file  \\\n",
       "0   _Error_ SEN6xSorting _ WorkflowError  (1).msg   \n",
       "1  _Error_ SEN6xSorting _ WorkflowError  (10).msg   \n",
       "\n",
       "                             exception  \\\n",
       "0  The sorting equipment is out of air   \n",
       "1  The sorting equipment is out of air   \n",
       "\n",
       "                                  original_exception  \n",
       "0  One or more exceptions occured during executio...  \n",
       "1  One or more exceptions occured during executio...  "
      ]
     },
     "execution_count": 78,
     "metadata": {},
     "output_type": "execute_result"
    }
   ],
   "source": [
    "dft.head(2)"
   ]
  },
  {
   "cell_type": "code",
   "execution_count": 79,
   "metadata": {},
   "outputs": [],
   "source": [
    "df = dft.copy()\n",
    "df['Type'] = None\n",
    "df.loc[df.AssemblyName=='SEN6xSorting', 'Type'] = 'Sorting'\n",
    "df = df[df.Machine.str.startswith('CN')]\n",
    "df = df[df.Version.str.match(r\"\\d*\\.\\d\\.\\d\\.\\d\")]\n",
    "df['DateTime'] = df['DateTime'].map(lambda x: pd.to_datetime(x,dayfirst=True))\n",
    "df = df.sort_values(\"DateTime\",ascending=False)"
   ]
  },
  {
   "cell_type": "code",
   "execution_count": 62,
   "metadata": {},
   "outputs": [
    {
     "data": {
      "text/html": [
       "<div>\n",
       "<style scoped>\n",
       "    .dataframe tbody tr th:only-of-type {\n",
       "        vertical-align: middle;\n",
       "    }\n",
       "\n",
       "    .dataframe tbody tr th {\n",
       "        vertical-align: top;\n",
       "    }\n",
       "\n",
       "    .dataframe thead th {\n",
       "        text-align: right;\n",
       "    }\n",
       "</style>\n",
       "<table border=\"1\" class=\"dataframe\">\n",
       "  <thead>\n",
       "    <tr style=\"text-align: right;\">\n",
       "      <th></th>\n",
       "      <th>AssemblyName</th>\n",
       "      <th>Version</th>\n",
       "      <th>Machine</th>\n",
       "      <th>DateTime</th>\n",
       "      <th>WorkingDir</th>\n",
       "      <th>file</th>\n",
       "      <th>exception</th>\n",
       "      <th>original_exception</th>\n",
       "      <th>Type</th>\n",
       "    </tr>\n",
       "  </thead>\n",
       "  <tbody>\n",
       "    <tr>\n",
       "      <th>206</th>\n",
       "      <td>SEN6xSorting</td>\n",
       "      <td>1.2.0.0</td>\n",
       "      <td>CN-SHA-M-100068</td>\n",
       "      <td>2025-02-20 12:48:49</td>\n",
       "      <td>C:\\SVN\\Particle.AppLauncher_5.0.0.0</td>\n",
       "      <td>_Error_ SEN6xSorting _ WorkflowError .msg</td>\n",
       "      <td>Workflow Exception Message:\\r</td>\n",
       "      <td>Workflow Exception Message:\\r</td>\n",
       "      <td>Sorting</td>\n",
       "    </tr>\n",
       "    <tr>\n",
       "      <th>0</th>\n",
       "      <td>SEN6xSorting</td>\n",
       "      <td>1.2.0.0</td>\n",
       "      <td>CN-SHA-M-100068</td>\n",
       "      <td>2025-02-20 12:40:32</td>\n",
       "      <td>C:\\SVN\\Particle.AppLauncher_5.0.0.0</td>\n",
       "      <td>_Error_ SEN6xSorting _ WorkflowError  (1).msg</td>\n",
       "      <td>Workflow Exception Message:\\r</td>\n",
       "      <td>Workflow Exception Message:\\r</td>\n",
       "      <td>Sorting</td>\n",
       "    </tr>\n",
       "  </tbody>\n",
       "</table>\n",
       "</div>"
      ],
      "text/plain": [
       "     AssemblyName  Version          Machine            DateTime  \\\n",
       "206  SEN6xSorting  1.2.0.0  CN-SHA-M-100068 2025-02-20 12:48:49   \n",
       "0    SEN6xSorting  1.2.0.0  CN-SHA-M-100068 2025-02-20 12:40:32   \n",
       "\n",
       "                              WorkingDir  \\\n",
       "206  C:\\SVN\\Particle.AppLauncher_5.0.0.0   \n",
       "0    C:\\SVN\\Particle.AppLauncher_5.0.0.0   \n",
       "\n",
       "                                              file  \\\n",
       "206      _Error_ SEN6xSorting _ WorkflowError .msg   \n",
       "0    _Error_ SEN6xSorting _ WorkflowError  (1).msg   \n",
       "\n",
       "                         exception             original_exception     Type  \n",
       "206  Workflow Exception Message:\\r  Workflow Exception Message:\\r  Sorting  \n",
       "0    Workflow Exception Message:\\r  Workflow Exception Message:\\r  Sorting  "
      ]
     },
     "execution_count": 62,
     "metadata": {},
     "output_type": "execute_result"
    }
   ],
   "source": [
    "df.head(2)"
   ]
  },
  {
   "cell_type": "code",
   "execution_count": 55,
   "metadata": {},
   "outputs": [
    {
     "data": {
      "text/html": [
       "<div>\n",
       "<style scoped>\n",
       "    .dataframe tbody tr th:only-of-type {\n",
       "        vertical-align: middle;\n",
       "    }\n",
       "\n",
       "    .dataframe tbody tr th {\n",
       "        vertical-align: top;\n",
       "    }\n",
       "\n",
       "    .dataframe thead th {\n",
       "        text-align: right;\n",
       "    }\n",
       "</style>\n",
       "<table border=\"1\" class=\"dataframe\">\n",
       "  <thead>\n",
       "    <tr style=\"text-align: right;\">\n",
       "      <th></th>\n",
       "      <th>AssemblyName</th>\n",
       "      <th>Version</th>\n",
       "      <th>Machine</th>\n",
       "      <th>DateTime</th>\n",
       "      <th>WorkingDir</th>\n",
       "      <th>file</th>\n",
       "      <th>exception</th>\n",
       "      <th>original_exception</th>\n",
       "      <th>Type</th>\n",
       "    </tr>\n",
       "  </thead>\n",
       "  <tbody>\n",
       "    <tr>\n",
       "      <th>113</th>\n",
       "      <td>SEN6xSorting</td>\n",
       "      <td>1.0.0.0</td>\n",
       "      <td>CN-SHA-M-100060</td>\n",
       "      <td>2024-11-08 13:01:06</td>\n",
       "      <td>C:\\SVN\\SEN6xSorting_1.0.0.0</td>\n",
       "      <td>_Error_ SEN6xSorting _ WorkflowError  (200).msg</td>\n",
       "      <td>Workflow Exception Message:</td>\n",
       "      <td>Workflow Exception Message:</td>\n",
       "      <td>Sorting</td>\n",
       "    </tr>\n",
       "    <tr>\n",
       "      <th>114</th>\n",
       "      <td>SEN6xSorting</td>\n",
       "      <td>1.0.0.0</td>\n",
       "      <td>CN-SHA-M-100060</td>\n",
       "      <td>2024-11-08 12:32:53</td>\n",
       "      <td>C:\\SVN\\SEN6xSorting_1.0.0.0</td>\n",
       "      <td>_Error_ SEN6xSorting _ WorkflowError  (201).msg</td>\n",
       "      <td>Workflow Exception Message:</td>\n",
       "      <td>Workflow Exception Message:</td>\n",
       "      <td>Sorting</td>\n",
       "    </tr>\n",
       "  </tbody>\n",
       "</table>\n",
       "</div>"
      ],
      "text/plain": [
       "     AssemblyName  Version          Machine            DateTime  \\\n",
       "113  SEN6xSorting  1.0.0.0  CN-SHA-M-100060 2024-11-08 13:01:06   \n",
       "114  SEN6xSorting  1.0.0.0  CN-SHA-M-100060 2024-11-08 12:32:53   \n",
       "\n",
       "                      WorkingDir  \\\n",
       "113  C:\\SVN\\SEN6xSorting_1.0.0.0   \n",
       "114  C:\\SVN\\SEN6xSorting_1.0.0.0   \n",
       "\n",
       "                                                file  \\\n",
       "113  _Error_ SEN6xSorting _ WorkflowError  (200).msg   \n",
       "114  _Error_ SEN6xSorting _ WorkflowError  (201).msg   \n",
       "\n",
       "                       exception           original_exception     Type  \n",
       "113  Workflow Exception Message:  Workflow Exception Message:  Sorting  \n",
       "114  Workflow Exception Message:  Workflow Exception Message:  Sorting  "
      ]
     },
     "execution_count": 55,
     "metadata": {},
     "output_type": "execute_result"
    }
   ],
   "source": [
    "df1=df[df['DateTime']>'2024-11-08 12:32:00']\n",
    "df1.tail(2)"
   ]
  },
  {
   "cell_type": "code",
   "execution_count": 56,
   "metadata": {},
   "outputs": [
    {
     "name": "stderr",
     "output_type": "stream",
     "text": [
      "C:\\Users\\wmao\\AppData\\Local\\Temp\\ipykernel_6768\\4129736924.py:1: SettingWithCopyWarning:\n",
      "\n",
      "\n",
      "A value is trying to be set on a copy of a slice from a DataFrame.\n",
      "Try using .loc[row_indexer,col_indexer] = value instead\n",
      "\n",
      "See the caveats in the documentation: https://pandas.pydata.org/pandas-docs/stable/user_guide/indexing.html#returning-a-view-versus-a-copy\n",
      "\n"
     ]
    }
   ],
   "source": [
    "df1['Error'] = df1['exception']"
   ]
  },
  {
   "cell_type": "code",
   "execution_count": 8,
   "metadata": {},
   "outputs": [
    {
     "data": {
      "text/html": [
       "<div>\n",
       "<style scoped>\n",
       "    .dataframe tbody tr th:only-of-type {\n",
       "        vertical-align: middle;\n",
       "    }\n",
       "\n",
       "    .dataframe tbody tr th {\n",
       "        vertical-align: top;\n",
       "    }\n",
       "\n",
       "    .dataframe thead th {\n",
       "        text-align: right;\n",
       "    }\n",
       "</style>\n",
       "<table border=\"1\" class=\"dataframe\">\n",
       "  <thead>\n",
       "    <tr style=\"text-align: right;\">\n",
       "      <th></th>\n",
       "      <th>Qty</th>\n",
       "    </tr>\n",
       "    <tr>\n",
       "      <th>Error</th>\n",
       "      <th></th>\n",
       "    </tr>\n",
       "  </thead>\n",
       "  <tbody>\n",
       "    <tr>\n",
       "      <th>Error validating section</th>\n",
       "      <td>9</td>\n",
       "    </tr>\n",
       "    <tr>\n",
       "      <th>Soft bin is not defined</th>\n",
       "      <td>9</td>\n",
       "    </tr>\n",
       "    <tr>\n",
       "      <th>Software exception</th>\n",
       "      <td>38</td>\n",
       "    </tr>\n",
       "    <tr>\n",
       "      <th>Printer is not working</th>\n",
       "      <td>55</td>\n",
       "    </tr>\n",
       "    <tr>\n",
       "      <th>The sorting equipment is out of air</th>\n",
       "      <td>65</td>\n",
       "    </tr>\n",
       "  </tbody>\n",
       "</table>\n",
       "</div>"
      ],
      "text/plain": [
       "                                     Qty\n",
       "Error                                   \n",
       "Error validating section               9\n",
       "Soft bin is not defined                9\n",
       "Software exception                    38\n",
       "Printer is not working                55\n",
       "The sorting equipment is out of air   65"
      ]
     },
     "execution_count": 8,
     "metadata": {},
     "output_type": "execute_result"
    }
   ],
   "source": [
    "df2=df1.groupby(\"Error\").size().sort_values(ascending=True).to_frame('Qty')\n",
    "df2.tail()"
   ]
  },
  {
   "cell_type": "code",
   "execution_count": 9,
   "metadata": {},
   "outputs": [
    {
     "data": {
      "text/plain": [
       "Text(0.5, 1.0, 'Sorting equipment error statistics chart')"
      ]
     },
     "execution_count": 9,
     "metadata": {},
     "output_type": "execute_result"
    },
    {
     "data": {
      "image/png": "[encoded data removed]",
      "text/plain": [
       "<Figure size 1080x576 with 1 Axes>"
      ]
     },
     "metadata": {
      "needs_background": "light"
     },
     "output_type": "display_data"
    }
   ],
   "source": [
    "df2.plot.barh(figsize=(15,8),fontsize=10)\n",
    "plt.xlabel('Qty',fontsize=15)\n",
    "plt.ylabel('Error',fontsize=15)\n",
    "plt.title('Sorting equipment error statistics chart',fontsize=20)"
   ]
  },
  {
   "cell_type": "code",
   "execution_count": 83,
   "metadata": {},
   "outputs": [],
   "source": [
    "da = PyodbcAccess(server_name='CN-SHA-P-MSQS01', db_name='SEN6XDB', db_schema=\"MS01\")\n",
    "da.connect()\n",
    "#col_list=['.*']\n",
    "col_list = ['SubstrateSessionId']\n",
    "filter_list = [\"StartDateTime between '2024-11-01 10:45:31' AND '2025-02-20 12:50:00'\"]\n",
    "df_db = da.fetch(column_list=col_list, filter_list=filter_list, include_limits=True, sort=False,\n",
    "                 return_testnames=True)"
   ]
  },
  {
   "cell_type": "code",
   "execution_count": 81,
   "metadata": {},
   "outputs": [
    {
     "data": {
      "text/html": [
       "<div>\n",
       "<style scoped>\n",
       "    .dataframe tbody tr th:only-of-type {\n",
       "        vertical-align: middle;\n",
       "    }\n",
       "\n",
       "    .dataframe tbody tr th {\n",
       "        vertical-align: top;\n",
       "    }\n",
       "\n",
       "    .dataframe thead th {\n",
       "        text-align: right;\n",
       "    }\n",
       "</style>\n",
       "<table border=\"1\" class=\"dataframe\">\n",
       "  <thead>\n",
       "    <tr style=\"text-align: right;\">\n",
       "      <th></th>\n",
       "      <th>DeviceId</th>\n",
       "      <th>ProductionOrder</th>\n",
       "      <th>BinCode</th>\n",
       "      <th>SubstrateSessionId</th>\n",
       "    </tr>\n",
       "    <tr>\n",
       "      <th>StartDateTime</th>\n",
       "      <th></th>\n",
       "      <th></th>\n",
       "      <th></th>\n",
       "      <th></th>\n",
       "    </tr>\n",
       "  </thead>\n",
       "  <tbody>\n",
       "    <tr>\n",
       "      <th>2024-11-08 12:32:31</th>\n",
       "      <td>None</td>\n",
       "      <td>92024110801</td>\n",
       "      <td>FF</td>\n",
       "      <td>126</td>\n",
       "    </tr>\n",
       "    <tr>\n",
       "      <th>2024-11-08 12:32:31</th>\n",
       "      <td>None</td>\n",
       "      <td>92024110801</td>\n",
       "      <td>FF</td>\n",
       "      <td>126</td>\n",
       "    </tr>\n",
       "  </tbody>\n",
       "</table>\n",
       "</div>"
      ],
      "text/plain": [
       "                    DeviceId ProductionOrder BinCode  SubstrateSessionId\n",
       "StartDateTime                                                           \n",
       "2024-11-08 12:32:31     None     92024110801      FF                 126\n",
       "2024-11-08 12:32:31     None     92024110801      FF                 126"
      ]
     },
     "execution_count": 81,
     "metadata": {},
     "output_type": "execute_result"
    }
   ],
   "source": [
    "df_db.head(2)"
   ]
  },
  {
   "cell_type": "code",
   "execution_count": 82,
   "metadata": {},
   "outputs": [
    {
     "data": {
      "text/html": [
       "<div>\n",
       "<style scoped>\n",
       "    .dataframe tbody tr th:only-of-type {\n",
       "        vertical-align: middle;\n",
       "    }\n",
       "\n",
       "    .dataframe tbody tr th {\n",
       "        vertical-align: top;\n",
       "    }\n",
       "\n",
       "    .dataframe thead th {\n",
       "        text-align: right;\n",
       "    }\n",
       "</style>\n",
       "<table border=\"1\" class=\"dataframe\">\n",
       "  <thead>\n",
       "    <tr style=\"text-align: right;\">\n",
       "      <th></th>\n",
       "      <th>DeviceId</th>\n",
       "      <th>ProductionOrder</th>\n",
       "      <th>BinCode</th>\n",
       "      <th>SubstrateSessionId</th>\n",
       "    </tr>\n",
       "    <tr>\n",
       "      <th>StartDateTime</th>\n",
       "      <th></th>\n",
       "      <th></th>\n",
       "      <th></th>\n",
       "      <th></th>\n",
       "    </tr>\n",
       "  </thead>\n",
       "  <tbody>\n",
       "    <tr>\n",
       "      <th>2025-02-20 12:41:37</th>\n",
       "      <td>None</td>\n",
       "      <td>0003984977</td>\n",
       "      <td>30</td>\n",
       "      <td>792</td>\n",
       "    </tr>\n",
       "    <tr>\n",
       "      <th>2025-02-20 12:49:23</th>\n",
       "      <td>None</td>\n",
       "      <td>0003984977</td>\n",
       "      <td>31</td>\n",
       "      <td>793</td>\n",
       "    </tr>\n",
       "  </tbody>\n",
       "</table>\n",
       "</div>"
      ],
      "text/plain": [
       "                    DeviceId ProductionOrder BinCode  SubstrateSessionId\n",
       "StartDateTime                                                           \n",
       "2025-02-20 12:41:37     None      0003984977      30                 792\n",
       "2025-02-20 12:49:23     None      0003984977      31                 793"
      ]
     },
     "execution_count": 82,
     "metadata": {},
     "output_type": "execute_result"
    }
   ],
   "source": [
    "dfprd=df_db[~df_db.index.duplicated()]\n",
    "dfprd.tail(2)"
   ]
  },
  {
   "cell_type": "code",
   "execution_count": 24,
   "metadata": {},
   "outputs": [
    {
     "data": {
      "text/plain": [
       "793"
      ]
     },
     "execution_count": 24,
     "metadata": {},
     "output_type": "execute_result"
    }
   ],
   "source": [
    "cycle = dfprd.index.unique().shape[0]\n",
    "cycle"
   ]
  },
  {
   "cell_type": "code",
   "execution_count": 25,
   "metadata": {},
   "outputs": [
    {
     "data": {
      "text/html": [
       "<div>\n",
       "<style scoped>\n",
       "    .dataframe tbody tr th:only-of-type {\n",
       "        vertical-align: middle;\n",
       "    }\n",
       "\n",
       "    .dataframe tbody tr th {\n",
       "        vertical-align: top;\n",
       "    }\n",
       "\n",
       "    .dataframe thead th {\n",
       "        text-align: right;\n",
       "    }\n",
       "</style>\n",
       "<table border=\"1\" class=\"dataframe\">\n",
       "  <thead>\n",
       "    <tr style=\"text-align: right;\">\n",
       "      <th></th>\n",
       "      <th>Qty</th>\n",
       "      <th>ratio</th>\n",
       "    </tr>\n",
       "    <tr>\n",
       "      <th>Error</th>\n",
       "      <th></th>\n",
       "      <th></th>\n",
       "    </tr>\n",
       "  </thead>\n",
       "  <tbody>\n",
       "    <tr>\n",
       "      <th>The sorting equipment is out of air</th>\n",
       "      <td>65</td>\n",
       "      <td>8.20%</td>\n",
       "    </tr>\n",
       "    <tr>\n",
       "      <th>Printer is not working</th>\n",
       "      <td>55</td>\n",
       "      <td>6.94%</td>\n",
       "    </tr>\n",
       "    <tr>\n",
       "      <th>Software exception</th>\n",
       "      <td>38</td>\n",
       "      <td>4.79%</td>\n",
       "    </tr>\n",
       "    <tr>\n",
       "      <th>Soft bin is not defined</th>\n",
       "      <td>9</td>\n",
       "      <td>1.13%</td>\n",
       "    </tr>\n",
       "    <tr>\n",
       "      <th>Error validating section</th>\n",
       "      <td>9</td>\n",
       "      <td>1.13%</td>\n",
       "    </tr>\n",
       "    <tr>\n",
       "      <th>Software error</th>\n",
       "      <td>4</td>\n",
       "      <td>0.50%</td>\n",
       "    </tr>\n",
       "    <tr>\n",
       "      <th>xml does not exist</th>\n",
       "      <td>3</td>\n",
       "      <td>0.38%</td>\n",
       "    </tr>\n",
       "    <tr>\n",
       "      <th>Property was not loaded</th>\n",
       "      <td>3</td>\n",
       "      <td>0.38%</td>\n",
       "    </tr>\n",
       "    <tr>\n",
       "      <th>Tray is not inserted tightly</th>\n",
       "      <td>3</td>\n",
       "      <td>0.38%</td>\n",
       "    </tr>\n",
       "    <tr>\n",
       "      <th>Warning</th>\n",
       "      <td>2</td>\n",
       "      <td>0.25%</td>\n",
       "    </tr>\n",
       "    <tr>\n",
       "      <th>Tomlyn error</th>\n",
       "      <td>2</td>\n",
       "      <td>0.25%</td>\n",
       "    </tr>\n",
       "    <tr>\n",
       "      <th>Failed to connect</th>\n",
       "      <td>2</td>\n",
       "      <td>0.25%</td>\n",
       "    </tr>\n",
       "    <tr>\n",
       "      <th>Error validating binning configuration</th>\n",
       "      <td>2</td>\n",
       "      <td>0.25%</td>\n",
       "    </tr>\n",
       "    <tr>\n",
       "      <th>Closing  door timeout</th>\n",
       "      <td>2</td>\n",
       "      <td>0.25%</td>\n",
       "    </tr>\n",
       "    <tr>\n",
       "      <th>File not found</th>\n",
       "      <td>1</td>\n",
       "      <td>0.13%</td>\n",
       "    </tr>\n",
       "    <tr>\n",
       "      <th>The network path was not found.</th>\n",
       "      <td>1</td>\n",
       "      <td>0.13%</td>\n",
       "    </tr>\n",
       "    <tr>\n",
       "      <th>Exception of type</th>\n",
       "      <td>1</td>\n",
       "      <td>0.13%</td>\n",
       "    </tr>\n",
       "  </tbody>\n",
       "</table>\n",
       "</div>"
      ],
      "text/plain": [
       "                                        Qty  ratio\n",
       "Error                                             \n",
       "The sorting equipment is out of air      65  8.20%\n",
       "Printer is not working                   55  6.94%\n",
       "Software exception                       38  4.79%\n",
       "Soft bin is not defined                   9  1.13%\n",
       "Error validating section                  9  1.13%\n",
       "Software error                            4  0.50%\n",
       "xml does not exist                        3  0.38%\n",
       "Property was not loaded                   3  0.38%\n",
       "Tray is not inserted tightly              3  0.38%\n",
       "Warning                                   2  0.25%\n",
       "Tomlyn error                              2  0.25%\n",
       "Failed to connect                         2  0.25%\n",
       "Error validating binning configuration    2  0.25%\n",
       "Closing  door timeout                     2  0.25%\n",
       "File not found                            1  0.13%\n",
       "The network path was not found.           1  0.13%\n",
       "Exception of type                         1  0.13%"
      ]
     },
     "execution_count": 25,
     "metadata": {},
     "output_type": "execute_result"
    }
   ],
   "source": [
    "df2['ratio']=df2['Qty']/cycle\n",
    "df2[\"ratio\"] = df2[\"ratio\"].map(lambda x: '{:.2f}%'.format(x*100))\n",
    "df2=df2.sort_values(\"Qty\",ascending=False)\n",
    "df2"
   ]
  },
  {
   "cell_type": "code",
   "execution_count": 63,
   "metadata": {},
   "outputs": [],
   "source": [
    "df.to_csv(r\"Z:\\Bugreport\\MadleySorting_Exception\\Sen6xSortingError_{}.csv\".format(datetime.date.today().strftime(\"%Y%m%d\")),encoding='gbk',index=False)"
   ]
  },
  {
   "cell_type": "code",
   "execution_count": null,
   "metadata": {},
   "outputs": [],
   "source": []
  }
 ],
 "metadata": {
  "kernelspec": {
   "display_name": "Python 3 (ipykernel)",
   "language": "python",
   "name": "python3"
  },
  "language_info": {
   "codemirror_mode": {
    "name": "ipython",
    "version": 3
   },
   "file_extension": ".py",
   "mimetype": "text/x-python",
   "name": "python",
   "nbconvert_exporter": "python",
   "pygments_lexer": "ipython3",
   "version": "3.8.6"
  },
  "widgets": {
   "application/vnd.jupyter.widget-state+json": {
    "state": {},
    "version_major": 2,
    "version_minor": 0
   }
  }
 },
 "nbformat": 4,
 "nbformat_minor": 4
}
