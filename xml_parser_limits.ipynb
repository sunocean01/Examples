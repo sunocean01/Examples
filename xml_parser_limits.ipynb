{
 "cells": [
  {
   "cell_type": "code",
   "execution_count": 1,
   "id": "be37cb06-dd51-4156-b2dd-4e92bb2afaf1",
   "metadata": {},
   "outputs": [],
   "source": [
    "import pandas as pd\n",
    "import glob\n",
    "import os\n",
    "import sys\n",
    "import seaborn as sns\n",
    "import matplotlib.pyplot as plt\n",
    "import numpy as np\n",
    "import pandoc\n",
    "\n",
    "# pd.options.display.max_columns = None\n",
    "pd.options.display.max_rows = None\n",
    "pd.options.display.precision = 4"
   ]
  },
  {
   "cell_type": "code",
   "execution_count": 2,
   "id": "0b5f9185-f767-45c3-8661-3fb623492797",
   "metadata": {},
   "outputs": [],
   "source": [
    "from IPython.core.interactiveshell import InteractiveShell\n",
    "InteractiveShell.ast_node_interactivity='all'"
   ]
  },
  {
   "cell_type": "code",
   "execution_count": 7,
   "id": "d8c79bcf-ea7e-40b5-9dac-7f0eb2192e69",
   "metadata": {},
   "outputs": [],
   "source": [
    "# list the files pathes:\n",
    "# pthdct = {'g2d_MC03':r\"C:\\SVN\\MonoCalibrationG2D_VAVE_ini\\MC03_Mono.binningcfg.xml\",\n",
    "#          'g2e_MC03':r\"C:\\SVN\\MonoCalibrationG2E_VAVE_ini\\MC03_Mono.binningcfg.xml\",\n",
    "#          'g1_MC03':r\"C:\\SVN\\MonoCalibrationG1_VAVE_ini\\MC03_Mono.binningcfg.xml\"\n",
    "# }\n",
    "\n",
    "pthroot = r\"C:\\work\\SVN\\PMCal\\SEN5X_Calibration_ini\"\n",
    "# pthroot = r\"C:\\SVN\\SEN5XLaserModuleCalibration_ini\\3.000.667-001\""
   ]
  },
  {
   "cell_type": "markdown",
   "id": "65f03bb1-f476-42ad-a370-0746cba776a8",
   "metadata": {},
   "source": [
    "# MC Parser"
   ]
  },
  {
   "cell_type": "code",
   "execution_count": 8,
   "id": "03aeee22-5ae8-44ef-9e7e-d25dc872974e",
   "metadata": {},
   "outputs": [],
   "source": [
    "class xml_parser:\n",
    "    def __init__(self,pthroot,MC):\n",
    "        self.MC = MC\n",
    "        if isinstance(pthroot,str):\n",
    "            filepath = []\n",
    "            for root,dirs,files in os.walk(pthroot):\n",
    "                for file in files:\n",
    "                    filepath.append(os.path.join(root,file))\n",
    "            if [f for f in filepath if all(x in f for x in [MC,\"binningcfg\"])]:\n",
    "                self.path = [f for f in filepath if all(x in f for x in [MC,\"binningcfg\"])]\n",
    "            else:\n",
    "                print(\"No {} files in the path\".format(MC))\n",
    "        elif isinstance(pthroot,dict):\n",
    "            self.path = pthroot\n",
    "        else:\n",
    "            print(\"Input as str or dict\")\n",
    "        \n",
    "    def xml_mc(self):\n",
    "        testname = pd.DataFrame()\n",
    "        if isinstance(self.path,list):\n",
    "            for pth in self.path:\n",
    "                d = pd.read_xml(pth,xpath=r\".//{}\".format(self.MC))\n",
    "                phaselt = d.columns\n",
    "\n",
    "                setupxml = pd.DataFrame()\n",
    "                for ph in phaselt:\n",
    "                    d = pd.read_xml(pth,xpath=r\".//{}/{}\".format(self.MC,ph))\n",
    "                    tid = [x for x in d.columns if x.startswith(\"T\")]\n",
    "\n",
    "                    for id in tid:\n",
    "                        d = pd.read_xml(pth,xpath=r\".//{}/{}/{}\".format(self.MC,ph,id))\n",
    "                        d['Phase'] = ph\n",
    "                        d['TestId'] = id\n",
    "                        setupxml = pd.concat([setupxml,d])\n",
    "\n",
    "                setupxml['Setup'] = os.path.basename(pth)[0:28]\n",
    "                testname = pd.concat([testname,setupxml])\n",
    "\n",
    "            testname['item'] = testname['TestId'] + '_' + testname['Phase'] + '_' + testname['TestName']\n",
    "            testname = testname.replace('none',np.nan)\n",
    "            try:\n",
    "                testname = testname[testname['item'].map(lambda x: False if all(y in x for y in ['Ratio','SPS']) else True)]\n",
    "            except:\n",
    "                pass\n",
    "            return testname\n",
    "\n",
    "        elif isinstance(self.path,dict):\n",
    "            for key in self.path:\n",
    "                pth = pthdct[key]\n",
    "                d = pd.read_xml(pth,xpath=r\".//{}\".format(self.MC))\n",
    "                phaselt = d.columns\n",
    "\n",
    "                setupxml = pd.DataFrame()\n",
    "                for ph in phaselt:\n",
    "                    d = pd.read_xml(pth,xpath=r\".//{}/{}\".format(self.MC,ph))\n",
    "                    tid = [x for x in d.columns if x.startswith(\"T\")]\n",
    "\n",
    "                    for id in tid:\n",
    "                        d = pd.read_xml(pth,xpath=r\".//{}/{}/{}\".format(self.MC,ph,id))\n",
    "                        d['Phase'] = ph\n",
    "                        d['TestId'] = id\n",
    "                        setupxml = pd.concat([setupxml,d])\n",
    "\n",
    "                setupxml['Setup'] = key\n",
    "                testname = pd.concat([testname,setupxml])\n",
    "\n",
    "            testname['item'] = testname['TestId'] + '_' + testname['Phase'] + '_' + testname['TestName']\n",
    "            testname = testname.replace('none',np.nan)\n",
    "            try:\n",
    "                testname = testname[testname['item'].map(lambda x: False if all(y in x for y in ['Ratio','SPS']) else True)]\n",
    "            except:\n",
    "                pass\n",
    "            return testname\n",
    "        else:\n",
    "            print(\"Input the dict or list, please!\")\n",
    "            \n",
    "    def xml_mc_plot(self):\n",
    "        testname = self.xml_mc()\n",
    "        for item,dt in testname.groupby('item'):\n",
    "            ax = dt.plot.line(x='Setup',\n",
    "                           y=['UTL','LTL'],\n",
    "                           style='.',\n",
    "                            figsize=(32,8),\n",
    "                            fontsize=14,\n",
    "                            markersize=18,\n",
    "                            rot = 90,\n",
    "                        )\n",
    "            xt = ax.set_xticks(list(range(dt.shape[0])))\n",
    "            xtlab = ax.set_xticklabels(dt['Setup'])\n",
    "            xtitle = ax.set_title(item)\n",
    "            plt.show()\n",
    "            \n",
    "    def xml_mcdiff_plot(self):\n",
    "        testname = self.xml_mc()\n",
    "        ch = []\n",
    "        for item,dt in testname.groupby(\"item\"):\n",
    "            if any([len(dt[\"LTL\"].unique()) > 1,len(dt[\"UTL\"].unique()) > 1]):\n",
    "                ax = dt.plot.line(x='Setup',\n",
    "                       y=['UTL','LTL'],\n",
    "                       style='.',\n",
    "                        figsize=(32,8),\n",
    "                        fontsize=14,\n",
    "                        markersize=18,\n",
    "                        rot = 90,\n",
    "                    )\n",
    "                xt = ax.set_xticks(list(range(dt.shape[0])))\n",
    "                xtlab = ax.set_xticklabels(dt['Setup'])\n",
    "                xtitle = ax.set_title(item)\n",
    "                plt.show()\n",
    "            else:\n",
    "                ch.append(False)\n",
    "        if not all(ch):\n",
    "            print(\"No different parameters!\")\n",
    "            \n",
    "    def binmapping(self):\n",
    "\n",
    "        hardbinmapping = pd.DataFrame()\n",
    "        if isinstance(self.path,dict):\n",
    "            for key in self.path:\n",
    "                pth = pthdct[key]\n",
    "                d = pd.read_xml(pth,xpath=r\".//SoftBins//*\")\n",
    "                d['SetupRecipe'] = key\n",
    "                hardbinmapping = pd.concat([hardbinmapping,d])\n",
    "            return hardbinmapping\n",
    "        elif isinstance(self.path,list):\n",
    "            # setupxml = pd.DataFrame()\n",
    "            for pth in self.path:\n",
    "                setup = os.path.basename(pth)[0:28]\n",
    "                d = pd.read_xml(pth,xpath=r\".//SoftBins//*\")\n",
    "                d['SetupRecipe'] = setup\n",
    "                hardbinmapping = pd.concat([hardbinmapping,d])\n",
    "            return hardbinmapping\n",
    "        else:\n",
    "            print(\"Input the dict or list, please!\")   \n",
    "            \n",
    "    def binmapping_plot(self):\n",
    "        hdmp = self.binmapping()\n",
    "        for sftb,gp in hdmp.groupby(\"BinCode\"):\n",
    "            ax = gp.plot.line(style='.',\n",
    "                        x='SetupRecipe',\n",
    "                        y='HardBinCode',\n",
    "                        title=sftb,\n",
    "                        markersize=14,\n",
    "                        figsize=(14,4),\n",
    "                        rot=90,\n",
    "                             )\n",
    "            xt = ax.set_xticks(list(range(gp.shape[0])))\n",
    "            xtlab = ax.set_xticklabels(gp['SetupRecipe'])\n",
    "            # xtitle = ax.set_title(item)\n",
    "            plt.show()"
   ]
  },
  {
   "cell_type": "markdown",
   "id": "c5853fc7-b461-4f65-9427-5817365bc09f",
   "metadata": {},
   "source": [
    "# Initialization"
   ]
  },
  {
   "cell_type": "code",
   "execution_count": 9,
   "id": "a86d91d7-6dfa-4b44-bead-03d58172f6ad",
   "metadata": {},
   "outputs": [],
   "source": [
    "# xml_parser 可以接受列标或字典的地址形式:\n",
    "parser = xml_parser(pthroot,MC=\"MC03\")"
   ]
  },
  {
   "cell_type": "markdown",
   "id": "c2021173-67d7-46a0-913e-bb996860e4f8",
   "metadata": {},
   "source": [
    "# binmapping: SoftBin-HardBin"
   ]
  },
  {
   "cell_type": "code",
   "execution_count": 10,
   "id": "9f2d832e-0f41-4d5c-a6a0-627eb7e43f1a",
   "metadata": {},
   "outputs": [],
   "source": [
    "bins = parser.binmapping()"
   ]
  },
  {
   "cell_type": "code",
   "execution_count": 11,
   "id": "98a2adbe-1357-4e8c-9d40-7f338184bc69",
   "metadata": {},
   "outputs": [
    {
     "data": {
      "text/html": [
       "<div>\n",
       "<style scoped>\n",
       "    .dataframe tbody tr th:only-of-type {\n",
       "        vertical-align: middle;\n",
       "    }\n",
       "\n",
       "    .dataframe tbody tr th {\n",
       "        vertical-align: top;\n",
       "    }\n",
       "\n",
       "    .dataframe thead th {\n",
       "        text-align: right;\n",
       "    }\n",
       "</style>\n",
       "<table border=\"1\" class=\"dataframe\">\n",
       "  <thead>\n",
       "    <tr style=\"text-align: right;\">\n",
       "      <th></th>\n",
       "      <th>BinCode</th>\n",
       "      <th>BinQuality</th>\n",
       "      <th>BinDescription</th>\n",
       "      <th>TurnChannelOff</th>\n",
       "      <th>OverrideFailBins</th>\n",
       "      <th>HardBinCode</th>\n",
       "      <th>SetupRecipe</th>\n",
       "    </tr>\n",
       "  </thead>\n",
       "  <tbody>\n",
       "    <tr>\n",
       "      <th>0</th>\n",
       "      <td>0x00</td>\n",
       "      <td>SystemError</td>\n",
       "      <td>SystemError</td>\n",
       "      <td>True</td>\n",
       "      <td>True</td>\n",
       "      <td>3</td>\n",
       "      <td>MC03_CN-100340_3.000.535-007</td>\n",
       "    </tr>\n",
       "    <tr>\n",
       "      <th>1</th>\n",
       "      <td>0x70</td>\n",
       "      <td>Incomplete</td>\n",
       "      <td>Incomplete</td>\n",
       "      <td>True</td>\n",
       "      <td>True</td>\n",
       "      <td>4</td>\n",
       "      <td>MC03_CN-100340_3.000.535-007</td>\n",
       "    </tr>\n",
       "  </tbody>\n",
       "</table>\n",
       "</div>"
      ],
      "text/plain": [
       "  BinCode   BinQuality BinDescription TurnChannelOff OverrideFailBins  \\\n",
       "0    0x00  SystemError    SystemError           True             True   \n",
       "1    0x70   Incomplete     Incomplete           True             True   \n",
       "\n",
       "   HardBinCode                   SetupRecipe  \n",
       "0            3  MC03_CN-100340_3.000.535-007  \n",
       "1            4  MC03_CN-100340_3.000.535-007  "
      ]
     },
     "execution_count": 11,
     "metadata": {},
     "output_type": "execute_result"
    }
   ],
   "source": [
    "bins.head(2)"
   ]
  },
  {
   "cell_type": "code",
   "execution_count": 7,
   "id": "7b2a2ec3-6d06-499e-b58c-3a30da089b92",
   "metadata": {
    "tags": []
   },
   "outputs": [
    {
     "data": {
      "text/html": [
       "<div>\n",
       "<style scoped>\n",
       "    .dataframe tbody tr th:only-of-type {\n",
       "        vertical-align: middle;\n",
       "    }\n",
       "\n",
       "    .dataframe tbody tr th {\n",
       "        vertical-align: top;\n",
       "    }\n",
       "\n",
       "    .dataframe thead th {\n",
       "        text-align: right;\n",
       "    }\n",
       "</style>\n",
       "<table border=\"1\" class=\"dataframe\">\n",
       "  <thead>\n",
       "    <tr style=\"text-align: right;\">\n",
       "      <th></th>\n",
       "      <th>BinCode</th>\n",
       "      <th>BinQuality</th>\n",
       "      <th>BinDescription</th>\n",
       "      <th>TurnChannelOff</th>\n",
       "      <th>HardBinCode</th>\n",
       "      <th>SetupRecipe</th>\n",
       "    </tr>\n",
       "  </thead>\n",
       "  <tbody>\n",
       "  </tbody>\n",
       "</table>\n",
       "</div>"
      ],
      "text/plain": [
       "Empty DataFrame\n",
       "Columns: [BinCode, BinQuality, BinDescription, TurnChannelOff, HardBinCode, SetupRecipe]\n",
       "Index: []"
      ]
     },
     "execution_count": 7,
     "metadata": {},
     "output_type": "execute_result"
    }
   ],
   "source": [
    "bins.query(\"HardBinCode==7\")"
   ]
  },
  {
   "cell_type": "code",
   "execution_count": 27,
   "id": "0f331489-1256-46cc-ad7e-fcdbed1ab9f0",
   "metadata": {
    "collapsed": true,
    "jupyter": {
     "outputs_hidden": true
    },
    "tags": []
   },
   "outputs": [
    {
     "data": {
      "text/plain": [
       "array(['0x70', '0x72', '0x31', '0x7F', '0xE3', '0xE4', '0xE5', '0xF1',\n",
       "       '0xF2', '0xFA', '0xFB', '0xFC', '0x75', '0xE0', '0x5F'],\n",
       "      dtype=object)"
      ]
     },
     "execution_count": 27,
     "metadata": {},
     "output_type": "execute_result"
    }
   ],
   "source": [
    "blt = bins[bins[\"HardBinCode\"].isin([4,10])][\"BinCode\"].unique()\n",
    "blt"
   ]
  },
  {
   "cell_type": "markdown",
   "id": "48b751c2-4718-4b6c-8b90-036f84a2bf04",
   "metadata": {},
   "source": [
    "# binmapping Plot"
   ]
  },
  {
   "cell_type": "code",
   "execution_count": null,
   "id": "f2df0a28-0033-49ce-b1b7-a7d8401a447d",
   "metadata": {
    "tags": []
   },
   "outputs": [],
   "source": [
    "# HardBin_SoftBin Mappling plot:\n",
    "parser.binmapping_plot()"
   ]
  },
  {
   "cell_type": "markdown",
   "id": "a70caa36-2ec5-491e-959d-b56b5d7f55ca",
   "metadata": {},
   "source": [
    "# binning table"
   ]
  },
  {
   "cell_type": "markdown",
   "id": "47d040eb-74ae-4dc7-be62-bb92b36e4060",
   "metadata": {},
   "source": [
    "## MC03"
   ]
  },
  {
   "cell_type": "code",
   "execution_count": 12,
   "id": "88951830-e715-4ccf-b601-6f839c6b4c16",
   "metadata": {},
   "outputs": [],
   "source": [
    "# xml_parser 可以接受列标或字典的地址形式:\n",
    "parser = xml_parser(pthroot,MC=\"MC03\")\n",
    "mc = parser.xml_mc()\n",
    "# mc03.head(50)"
   ]
  },
  {
   "cell_type": "code",
   "execution_count": 13,
   "id": "0ede7317-09e6-4e05-85aa-ae380a87a5b7",
   "metadata": {},
   "outputs": [
    {
     "data": {
      "text/html": [
       "<div>\n",
       "<style scoped>\n",
       "    .dataframe tbody tr th:only-of-type {\n",
       "        vertical-align: middle;\n",
       "    }\n",
       "\n",
       "    .dataframe tbody tr th {\n",
       "        vertical-align: top;\n",
       "    }\n",
       "\n",
       "    .dataframe thead th {\n",
       "        text-align: right;\n",
       "    }\n",
       "</style>\n",
       "<table border=\"1\" class=\"dataframe\">\n",
       "  <thead>\n",
       "    <tr style=\"text-align: right;\">\n",
       "      <th></th>\n",
       "      <th>TestName</th>\n",
       "      <th>Unit</th>\n",
       "      <th>LBin</th>\n",
       "      <th>UBin</th>\n",
       "      <th>LTL</th>\n",
       "      <th>UTL</th>\n",
       "      <th>Comment</th>\n",
       "      <th>Phase</th>\n",
       "      <th>TestId</th>\n",
       "      <th>Setup</th>\n",
       "      <th>item</th>\n",
       "    </tr>\n",
       "  </thead>\n",
       "  <tbody>\n",
       "    <tr>\n",
       "      <th>0</th>\n",
       "      <td>AtmHeatingDeviceCurrent</td>\n",
       "      <td>mA</td>\n",
       "      <td>0xFA</td>\n",
       "      <td>0xFA</td>\n",
       "      <td>130.0</td>\n",
       "      <td>140.0</td>\n",
       "      <td>NaN</td>\n",
       "      <td>PmPeriphery</td>\n",
       "      <td>T150011</td>\n",
       "      <td>MC03_CN-100340_3.000.535-007</td>\n",
       "      <td>T150011_PmPeriphery_AtmHeatingDeviceCurrent</td>\n",
       "    </tr>\n",
       "    <tr>\n",
       "      <th>0</th>\n",
       "      <td>T1RefMean</td>\n",
       "      <td>DegC</td>\n",
       "      <td>0xFC</td>\n",
       "      <td>0xFC</td>\n",
       "      <td>22.0</td>\n",
       "      <td>28.0</td>\n",
       "      <td>NaN</td>\n",
       "      <td>GetAmbientEnvironment</td>\n",
       "      <td>T020001</td>\n",
       "      <td>MC03_CN-100340_3.000.535-007</td>\n",
       "      <td>T020001_GetAmbientEnvironment_T1RefMean</td>\n",
       "    </tr>\n",
       "  </tbody>\n",
       "</table>\n",
       "</div>"
      ],
      "text/plain": [
       "                  TestName  Unit  LBin  UBin    LTL    UTL Comment  \\\n",
       "0  AtmHeatingDeviceCurrent    mA  0xFA  0xFA  130.0  140.0     NaN   \n",
       "0                T1RefMean  DegC  0xFC  0xFC   22.0   28.0     NaN   \n",
       "\n",
       "                   Phase   TestId                         Setup  \\\n",
       "0            PmPeriphery  T150011  MC03_CN-100340_3.000.535-007   \n",
       "0  GetAmbientEnvironment  T020001  MC03_CN-100340_3.000.535-007   \n",
       "\n",
       "                                          item  \n",
       "0  T150011_PmPeriphery_AtmHeatingDeviceCurrent  \n",
       "0      T020001_GetAmbientEnvironment_T1RefMean  "
      ]
     },
     "execution_count": 13,
     "metadata": {},
     "output_type": "execute_result"
    }
   ],
   "source": [
    "mc.head(2)"
   ]
  },
  {
   "cell_type": "code",
   "execution_count": 13,
   "id": "730e3561-59d7-4f86-b68e-1118a1bd76b0",
   "metadata": {},
   "outputs": [
    {
     "data": {
      "text/html": [
       "<div>\n",
       "<style scoped>\n",
       "    .dataframe tbody tr th:only-of-type {\n",
       "        vertical-align: middle;\n",
       "    }\n",
       "\n",
       "    .dataframe tbody tr th {\n",
       "        vertical-align: top;\n",
       "    }\n",
       "\n",
       "    .dataframe thead th {\n",
       "        text-align: right;\n",
       "    }\n",
       "</style>\n",
       "<table border=\"1\" class=\"dataframe\">\n",
       "  <thead>\n",
       "    <tr style=\"text-align: right;\">\n",
       "      <th></th>\n",
       "      <th>TestName</th>\n",
       "      <th>Unit</th>\n",
       "      <th>LBin</th>\n",
       "      <th>UBin</th>\n",
       "      <th>LTL</th>\n",
       "      <th>UTL</th>\n",
       "      <th>Comment</th>\n",
       "      <th>Phase</th>\n",
       "      <th>TestId</th>\n",
       "      <th>Setup</th>\n",
       "      <th>item</th>\n",
       "    </tr>\n",
       "  </thead>\n",
       "  <tbody>\n",
       "    <tr>\n",
       "      <th>0</th>\n",
       "      <td>ZeroInterceptPm10p0MeanPartMassRef</td>\n",
       "      <td>pg</td>\n",
       "      <td>0x75</td>\n",
       "      <td>0x75</td>\n",
       "      <td>0.8704</td>\n",
       "      <td>1.7804</td>\n",
       "      <td>NaN</td>\n",
       "      <td>Aerosol_Arz</td>\n",
       "      <td>T006006</td>\n",
       "      <td>MC03_CN-100340_3.000.228-004</td>\n",
       "      <td>T006006_Aerosol_Arz_ZeroInterceptPm10p0MeanPar...</td>\n",
       "    </tr>\n",
       "    <tr>\n",
       "      <th>0</th>\n",
       "      <td>ZeroInterceptPm10p0MeanPartMassRef</td>\n",
       "      <td>pg</td>\n",
       "      <td>0x75</td>\n",
       "      <td>0x75</td>\n",
       "      <td>0.0284</td>\n",
       "      <td>0.1234</td>\n",
       "      <td>NaN</td>\n",
       "      <td>Aerosol_Kcl</td>\n",
       "      <td>T006006</td>\n",
       "      <td>MC03_CN-100340_3.000.228-004</td>\n",
       "      <td>T006006_Aerosol_Kcl_ZeroInterceptPm10p0MeanPar...</td>\n",
       "    </tr>\n",
       "    <tr>\n",
       "      <th>0</th>\n",
       "      <td>ZeroInterceptPm10p0MeanPartMassRef</td>\n",
       "      <td>pg</td>\n",
       "      <td>0x75</td>\n",
       "      <td>0x75</td>\n",
       "      <td>NaN</td>\n",
       "      <td>NaN</td>\n",
       "      <td>NaN</td>\n",
       "      <td>Aerosol_Remeasurement</td>\n",
       "      <td>T006006</td>\n",
       "      <td>MC03_CN-100340_3.000.228-004</td>\n",
       "      <td>T006006_Aerosol_Remeasurement_ZeroInterceptPm1...</td>\n",
       "    </tr>\n",
       "  </tbody>\n",
       "</table>\n",
       "</div>"
      ],
      "text/plain": [
       "                             TestName Unit  LBin  UBin     LTL     UTL  \\\n",
       "0  ZeroInterceptPm10p0MeanPartMassRef   pg  0x75  0x75  0.8704  1.7804   \n",
       "0  ZeroInterceptPm10p0MeanPartMassRef   pg  0x75  0x75  0.0284  0.1234   \n",
       "0  ZeroInterceptPm10p0MeanPartMassRef   pg  0x75  0x75     NaN     NaN   \n",
       "\n",
       "  Comment                  Phase   TestId                         Setup  \\\n",
       "0     NaN            Aerosol_Arz  T006006  MC03_CN-100340_3.000.228-004   \n",
       "0     NaN            Aerosol_Kcl  T006006  MC03_CN-100340_3.000.228-004   \n",
       "0     NaN  Aerosol_Remeasurement  T006006  MC03_CN-100340_3.000.228-004   \n",
       "\n",
       "                                                item  \n",
       "0  T006006_Aerosol_Arz_ZeroInterceptPm10p0MeanPar...  \n",
       "0  T006006_Aerosol_Kcl_ZeroInterceptPm10p0MeanPar...  \n",
       "0  T006006_Aerosol_Remeasurement_ZeroInterceptPm1...  "
      ]
     },
     "execution_count": 13,
     "metadata": {},
     "output_type": "execute_result"
    }
   ],
   "source": [
    "mc[mc[\"TestName\"].map(lambda x: True if \"ZeroInterceptPm10p0MeanPartMassRef\" in x else False) \n",
    "   & mc[\"Setup\"].map(lambda x: True if \"MC03_CN-100340_3.000.228-004\" in x else False) \n",
    "    ].sort_values(\"Phase\")"
   ]
  },
  {
   "cell_type": "markdown",
   "id": "b6016424-fbe7-4da9-8b39-8e96cc1d661c",
   "metadata": {},
   "source": [
    "## MQ"
   ]
  },
  {
   "cell_type": "code",
   "execution_count": 54,
   "id": "ee445353-ca83-48ef-82f5-58e8550073e0",
   "metadata": {},
   "outputs": [],
   "source": [
    "parsersen = xml_parser(pthroot,MC=\"MQ01\")\n",
    "mq = parsersen.xml_mc()"
   ]
  },
  {
   "cell_type": "code",
   "execution_count": 55,
   "id": "e72f0d9d-e263-4314-85d7-e55bd5320826",
   "metadata": {
    "tags": []
   },
   "outputs": [
    {
     "data": {
      "text/html": [
       "<div>\n",
       "<style scoped>\n",
       "    .dataframe tbody tr th:only-of-type {\n",
       "        vertical-align: middle;\n",
       "    }\n",
       "\n",
       "    .dataframe tbody tr th {\n",
       "        vertical-align: top;\n",
       "    }\n",
       "\n",
       "    .dataframe thead th {\n",
       "        text-align: right;\n",
       "    }\n",
       "</style>\n",
       "<table border=\"1\" class=\"dataframe\">\n",
       "  <thead>\n",
       "    <tr style=\"text-align: right;\">\n",
       "      <th></th>\n",
       "      <th>TestName</th>\n",
       "      <th>Unit</th>\n",
       "      <th>LBin</th>\n",
       "      <th>UBin</th>\n",
       "      <th>LTL</th>\n",
       "      <th>UTL</th>\n",
       "      <th>Comment</th>\n",
       "      <th>Phase</th>\n",
       "      <th>TestId</th>\n",
       "      <th>Setup</th>\n",
       "      <th>item</th>\n",
       "    </tr>\n",
       "  </thead>\n",
       "  <tbody>\n",
       "    <tr>\n",
       "      <th>0</th>\n",
       "      <td>VoltageShieldTest</td>\n",
       "      <td>V</td>\n",
       "      <td>0x30</td>\n",
       "      <td>0x70</td>\n",
       "      <td>-0.3</td>\n",
       "      <td>0.3</td>\n",
       "      <td>added by BinningCfgPatcher</td>\n",
       "      <td>SENXXDiodeMeasurement</td>\n",
       "      <td>T031006</td>\n",
       "      <td>MQ01_CN-100340_3.000.540-003</td>\n",
       "      <td>T031006_SENXXDiodeMeasurement_VoltageShieldTest</td>\n",
       "    </tr>\n",
       "    <tr>\n",
       "      <th>0</th>\n",
       "      <td>VoltageShieldTest</td>\n",
       "      <td>V</td>\n",
       "      <td>0x30</td>\n",
       "      <td>0x70</td>\n",
       "      <td>-0.3</td>\n",
       "      <td>0.3</td>\n",
       "      <td>added by BinningCfgPatcher</td>\n",
       "      <td>SENXXDiodeMeasurement</td>\n",
       "      <td>T031006</td>\n",
       "      <td>MQ01_CN-100341_3.000.540-003</td>\n",
       "      <td>T031006_SENXXDiodeMeasurement_VoltageShieldTest</td>\n",
       "    </tr>\n",
       "    <tr>\n",
       "      <th>0</th>\n",
       "      <td>VoltageShieldTest</td>\n",
       "      <td>V</td>\n",
       "      <td>0x30</td>\n",
       "      <td>0x70</td>\n",
       "      <td>-0.3</td>\n",
       "      <td>0.3</td>\n",
       "      <td>added by BinningCfgPatcher</td>\n",
       "      <td>SENXXDiodeMeasurement</td>\n",
       "      <td>T031006</td>\n",
       "      <td>MQ01_CN-100342_3.000.540-003</td>\n",
       "      <td>T031006_SENXXDiodeMeasurement_VoltageShieldTest</td>\n",
       "    </tr>\n",
       "    <tr>\n",
       "      <th>0</th>\n",
       "      <td>VoltageShieldTest</td>\n",
       "      <td>V</td>\n",
       "      <td>0x30</td>\n",
       "      <td>0x70</td>\n",
       "      <td>-0.3</td>\n",
       "      <td>0.3</td>\n",
       "      <td>added by BinningCfgPatcher</td>\n",
       "      <td>SENXXDiodeMeasurement</td>\n",
       "      <td>T031006</td>\n",
       "      <td>MQ01_CN-100343_3.000.540-003</td>\n",
       "      <td>T031006_SENXXDiodeMeasurement_VoltageShieldTest</td>\n",
       "    </tr>\n",
       "  </tbody>\n",
       "</table>\n",
       "</div>"
      ],
      "text/plain": [
       "            TestName Unit  LBin  UBin  LTL  UTL                     Comment  \\\n",
       "0  VoltageShieldTest    V  0x30  0x70 -0.3  0.3  added by BinningCfgPatcher   \n",
       "0  VoltageShieldTest    V  0x30  0x70 -0.3  0.3  added by BinningCfgPatcher   \n",
       "0  VoltageShieldTest    V  0x30  0x70 -0.3  0.3  added by BinningCfgPatcher   \n",
       "0  VoltageShieldTest    V  0x30  0x70 -0.3  0.3  added by BinningCfgPatcher   \n",
       "\n",
       "                   Phase   TestId                         Setup  \\\n",
       "0  SENXXDiodeMeasurement  T031006  MQ01_CN-100340_3.000.540-003   \n",
       "0  SENXXDiodeMeasurement  T031006  MQ01_CN-100341_3.000.540-003   \n",
       "0  SENXXDiodeMeasurement  T031006  MQ01_CN-100342_3.000.540-003   \n",
       "0  SENXXDiodeMeasurement  T031006  MQ01_CN-100343_3.000.540-003   \n",
       "\n",
       "                                              item  \n",
       "0  T031006_SENXXDiodeMeasurement_VoltageShieldTest  \n",
       "0  T031006_SENXXDiodeMeasurement_VoltageShieldTest  \n",
       "0  T031006_SENXXDiodeMeasurement_VoltageShieldTest  \n",
       "0  T031006_SENXXDiodeMeasurement_VoltageShieldTest  "
      ]
     },
     "execution_count": 55,
     "metadata": {},
     "output_type": "execute_result"
    }
   ],
   "source": [
    "mq[mq[\"TestName\"].map(lambda x: True if \"Vcc\" in x else False) \n",
    "  | mq[\"TestName\"].map(lambda x: True if \"VoltageShieldTest\" in x else False) \n",
    "   & mq[\"Setup\"].map(lambda x: True if \"3.000.540-003\" in x else False) \n",
    "    ].sort_values(\"Phase\")"
   ]
  },
  {
   "cell_type": "code",
   "execution_count": null,
   "id": "9d2d07c3-2ec0-4da6-85cd-53e180658b79",
   "metadata": {},
   "outputs": [],
   "source": []
  },
  {
   "cell_type": "markdown",
   "id": "3e150a03-3d6b-4cae-9612-a1f80f99f8c4",
   "metadata": {
    "tags": []
   },
   "source": [
    "# binningdiff plot"
   ]
  },
  {
   "cell_type": "code",
   "execution_count": null,
   "id": "dba1b5bb-8632-4f0f-b060-91dad3999004",
   "metadata": {
    "tags": []
   },
   "outputs": [],
   "source": [
    "parser.xml_mcdiff_plot()"
   ]
  },
  {
   "cell_type": "markdown",
   "id": "2d9b7319-6ac1-4949-928e-bdb15742f976",
   "metadata": {},
   "source": [
    "# binning plot"
   ]
  },
  {
   "cell_type": "code",
   "execution_count": null,
   "id": "ddfe64a4-0c69-465c-8456-c8aa4acd7f2e",
   "metadata": {
    "tags": []
   },
   "outputs": [],
   "source": [
    "parser.xml_mc_plot()"
   ]
  },
  {
   "cell_type": "code",
   "execution_count": null,
   "id": "93418dd4-ad66-468b-88a4-a903ec02ba6b",
   "metadata": {},
   "outputs": [],
   "source": []
  },
  {
   "cell_type": "code",
   "execution_count": null,
   "id": "f453c0c5-a5f5-48d5-9f10-bac66988f2bd",
   "metadata": {},
   "outputs": [],
   "source": []
  }
 ],
 "metadata": {
  "kernelspec": {
   "display_name": "WinPython_3p8",
   "language": "python",
   "name": "winpython_3p8"
  },
  "language_info": {
   "codemirror_mode": {
    "name": "ipython",
    "version": 3
   },
   "file_extension": ".py",
   "mimetype": "text/x-python",
   "name": "python",
   "nbconvert_exporter": "python",
   "pygments_lexer": "ipython3",
   "version": "3.8.6"
  }
 },
 "nbformat": 4,
 "nbformat_minor": 5
}
